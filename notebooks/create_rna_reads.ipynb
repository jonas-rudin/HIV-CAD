{
 "cells": [
  {
   "cell_type": "code",
   "execution_count": 2,
   "id": "fa746baa",
   "metadata": {
    "pycharm": {
     "name": "#%%\n"
    }
   },
   "outputs": [],
   "source": [
    "from random import choice, randint, randrange\n",
    "\n",
    "import numpy as np\n",
    "import tensorflow as tf"
   ]
  },
  {
   "cell_type": "code",
   "execution_count": 3,
   "id": "88235fb8",
   "metadata": {
    "pycharm": {
     "name": "#%%\n"
    }
   },
   "outputs": [],
   "source": [
    "def randomMutations(rna, numberOfMutations):\n",
    "    rnaList = list(rna)\n",
    "    for i in range(numberOfMutations):\n",
    "        rnaList[randrange(len(rna))] = choice(\"ACGT\")\n",
    "    return \"\".join(rnaList)"
   ]
  },
  {
   "cell_type": "code",
   "execution_count": 4,
   "id": "adf12f88",
   "metadata": {
    "pycharm": {
     "name": "#%%\n"
    }
   },
   "outputs": [],
   "source": [
    "def cutIntoReads(rna, length, amount):\n",
    "    rnaReads = [[]] * amount;\n",
    "    for i in range(amount):\n",
    "        firstIndex = 0\n",
    "        lastIndex = randint(1, length - 1)\n",
    "        provRnaReads = []\n",
    "        while (lastIndex < len(rna)):\n",
    "            provRnaReads.append(rna[firstIndex:lastIndex])\n",
    "            firstIndex = lastIndex\n",
    "            lastIndex += length + int(np.random.normal(0, length * 0.2, 1)[0])\n",
    "        provRnaReads.append(rna[firstIndex:len(rna)])\n",
    "        rnaReads[i] = provRnaReads\n",
    "    return rnaReads"
   ]
  },
  {
   "cell_type": "code",
   "execution_count": 5,
   "id": "160202aa",
   "metadata": {
    "pycharm": {
     "name": "#%%\n"
    }
   },
   "outputs": [],
   "source": [
    "def createRandomRNASequence(length):\n",
    "    rna = \"\"\n",
    "    for count in range(length):\n",
    "        rna += choice(\"ACGT\")\n",
    "    return rna"
   ]
  },
  {
   "cell_type": "code",
   "execution_count": 11,
   "id": "963a4315",
   "metadata": {
    "pycharm": {
     "name": "#%%\n"
    }
   },
   "outputs": [],
   "source": [
    " def switcher(base):\n",
    "    return {\n",
    "        'A': 0,\n",
    "        'C': 1,\n",
    "        'G': 2,\n",
    "        'T': 3\n",
    "    }.get(base, -1)\n",
    "\n",
    "\n",
    "def encryptRnaReads(allRnaReads):\n",
    "    encryptedReads = []\n",
    "    for rnaReads in allRnaReads:\n",
    "        for singleRead in rnaReads:\n",
    "            singleReadList = list(singleRead)\n",
    "            singleReadEncrypted = []\n",
    "            for base in singleReadList:\n",
    "                singleReadEncrypted.append(switcher(base))\n",
    "            #             print(singleRead)\n",
    "            # #             print(''.join(singleReadEncrypted))\n",
    "            #             print(singleReadEncrypted)\n",
    "            encryptedReads.append(singleReadEncrypted)\n",
    "    return encryptedReads"
   ]
  },
  {
   "cell_type": "code",
   "execution_count": 16,
   "id": "b7fc84a7",
   "metadata": {
    "pycharm": {
     "name": "#%%\n"
    }
   },
   "outputs": [
    {
     "ename": "AttributeError",
     "evalue": "'list' object has no attribute 'join'",
     "output_type": "error",
     "traceback": [
      "\u001B[0;31m---------------------------------------------------------------------------\u001B[0m",
      "\u001B[0;31mAttributeError\u001B[0m                            Traceback (most recent call last)",
      "Input \u001B[0;32mIn [16]\u001B[0m, in \u001B[0;36m<cell line: 2>\u001B[0;34m()\u001B[0m\n\u001B[1;32m      1\u001B[0m rnaReads \u001B[38;5;241m=\u001B[39m cutIntoReads(createRandomRNASequence(\u001B[38;5;241m10\u001B[39m), \u001B[38;5;241m10\u001B[39m, \u001B[38;5;241m2\u001B[39m)\n\u001B[0;32m----> 2\u001B[0m \u001B[38;5;28mprint\u001B[39m(\u001B[43mrnaReads\u001B[49m\u001B[38;5;241;43m.\u001B[39;49m\u001B[43mjoin\u001B[49m())\n\u001B[1;32m      3\u001B[0m encrypedReads \u001B[38;5;241m=\u001B[39m encryptRnaReads(rnaReads)\n\u001B[1;32m      4\u001B[0m \u001B[38;5;28;01mfor\u001B[39;00m read \u001B[38;5;129;01min\u001B[39;00m encrypedReads:\n\u001B[1;32m      5\u001B[0m     \u001B[38;5;66;03m#     read = np.array(read)\u001B[39;00m\n\u001B[1;32m      6\u001B[0m     \u001B[38;5;66;03m#     read[0] = -1\u001B[39;00m\n\u001B[1;32m      7\u001B[0m     \u001B[38;5;66;03m#     read = np.array(read)\u001B[39;00m\n\u001B[1;32m      8\u001B[0m     \u001B[38;5;66;03m# read = tf.cast(read, tf.int32)\u001B[39;00m\n",
      "\u001B[0;31mAttributeError\u001B[0m: 'list' object has no attribute 'join'"
     ]
    }
   ],
   "source": [
    "rnaReads = cutIntoReads(createRandomRNASequence(10), 10, 2)\n",
    "print(rnaReads)\n",
    "encrypedReads = encryptRnaReads(rnaReads)\n",
    "for read in encrypedReads:\n",
    "    #     read = np.array(read)\n",
    "    #     read[0] = -1\n",
    "    #     read = np.array(read)\n",
    "    # read = tf.cast(read, tf.int32)\n",
    "\n",
    "    print(read)\n",
    "    tensorRead = tf.one_hot(read, depth=4)\n",
    "    print(tensorRead)\n"
   ]
  },
  {
   "cell_type": "code",
   "execution_count": 7,
   "id": "e38a184d",
   "metadata": {
    "pycharm": {
     "name": "#%%\n"
    }
   },
   "outputs": [
    {
     "name": "stdout",
     "output_type": "stream",
     "text": [
      "TCCATATCGT\n",
      "TCCATATCGA\n"
     ]
    }
   ],
   "source": [
    "rna1 = createRandomRNASequence(10)\n",
    "\n",
    "rna2 = randomMutations(rna1, 2)\n",
    "\n",
    "print(rna1)\n",
    "print(rna2)"
   ]
  },
  {
   "cell_type": "code",
   "execution_count": null,
   "id": "a0271aae",
   "metadata": {
    "pycharm": {
     "name": "#%%\n"
    }
   },
   "outputs": [],
   "source": []
  }
 ],
 "metadata": {
  "kernelspec": {
   "display_name": "Python 3 (ipykernel)",
   "language": "python",
   "name": "python3"
  },
  "language_info": {
   "codemirror_mode": {
    "name": "ipython",
    "version": 3
   },
   "file_extension": ".py",
   "mimetype": "text/x-python",
   "name": "python",
   "nbconvert_exporter": "python",
   "pygments_lexer": "ipython3",
   "version": "3.7.13"
  }
 },
 "nbformat": 4,
 "nbformat_minor": 5
}