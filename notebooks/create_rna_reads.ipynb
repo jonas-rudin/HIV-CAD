{
 "cells": [
  {
   "cell_type": "code",
   "execution_count": 1,
   "id": "fa746baa",
   "metadata": {
    "pycharm": {
     "name": "#%%\n"
    }
   },
   "outputs": [],
   "source": [
    "from random import choice, randint, randrange\n",
    "import numpy as np\n",
    "import tensorflow as tf"
   ]
  },
  {
   "cell_type": "code",
   "execution_count": 2,
   "id": "88235fb8",
   "metadata": {
    "pycharm": {
     "name": "#%%\n"
    }
   },
   "outputs": [],
   "source": [
    "def randomMutations(rna, numberOfMutations):\n",
    "    rnaList = list(rna)\n",
    "    for i in range(numberOfMutations):\n",
    "        rnaList[randrange(len(rna))] = choice(\"ACGT\")\n",
    "    return \"\".join(rnaList)"
   ]
  },
  {
   "cell_type": "code",
   "execution_count": 3,
   "id": "adf12f88",
   "metadata": {
    "pycharm": {
     "name": "#%%\n"
    }
   },
   "outputs": [],
   "source": [
    "def cutIntoReads(rna, length, amount):\n",
    "    rnaReads = [[]]*amount;\n",
    "    for i in range(amount):\n",
    "        firstIndex = 0\n",
    "        lastIndex = randint(1, length-1)\n",
    "        provRnaReads = []\n",
    "        while(lastIndex < len(rna)):\n",
    "            provRnaReads.append(rna[firstIndex:lastIndex])\n",
    "            firstIndex = lastIndex\n",
    "            lastIndex += length + int(np.random.normal(0, length*0.2, 1)[0])\n",
    "        provRnaReads.append(rna[firstIndex:len(rna)])\n",
    "        rnaReads[i] = provRnaReads \n",
    "    return rnaReads"
   ]
  },
  {
   "cell_type": "code",
   "execution_count": 4,
   "id": "160202aa",
   "metadata": {
    "pycharm": {
     "name": "#%%\n"
    }
   },
   "outputs": [],
   "source": [
    "def createRandomRNASequence(length):\n",
    "    rna=\"\"\n",
    "    for count in range(length):\n",
    "        rna += choice(\"ACGT\")\n",
    "    return rna"
   ]
  },
  {
   "cell_type": "code",
   "execution_count": 5,
   "id": "963a4315",
   "metadata": {
    "pycharm": {
     "name": "#%%\n"
    }
   },
   "outputs": [],
   "source": [
    " def switcher(base):\n",
    "    return {\n",
    "        'A': 0.,\n",
    "        'C': 1.,\n",
    "        'G': 2.,\n",
    "        'T': 3.\n",
    "    }.get(base, -1.)     \n",
    "        \n",
    "def encryptRnaReads(allRnaReads):\n",
    "    encryptedReads = []\n",
    "    for rnaReads in allRnaReads:\n",
    "        for singleRead in rnaReads:\n",
    "            singleReadList = list(singleRead)\n",
    "            singleReadEncrypted = []\n",
    "            for base in singleReadList:\n",
    "                singleReadEncrypted.append(switcher(base))\n",
    "#             print(singleRead)\n",
    "# #             print(''.join(singleReadEncrypted))\n",
    "#             print(singleReadEncrypted)\n",
    "            encryptedReads.append(singleReadEncrypted)\n",
    "            print(encryptedReads)\n",
    "    return encryptedReads"
   ]
  },
  {
   "cell_type": "code",
   "execution_count": 6,
   "id": "b7fc84a7",
   "metadata": {
    "pycharm": {
     "name": "#%%\n"
    }
   },
   "outputs": [
    {
     "name": "stdout",
     "output_type": "stream",
     "text": [
      "[[3.0, 1.0]]\n",
      "[[3.0, 1.0], [2.0, 1.0, 3.0, 1.0, 1.0, 3.0, 3.0, 2.0]]\n",
      "[[3.0, 1.0], [2.0, 1.0, 3.0, 1.0, 1.0, 3.0, 3.0, 2.0], [3.0, 1.0, 2.0, 1.0, 3.0, 1.0, 1.0, 3.0]]\n",
      "[[3.0, 1.0], [2.0, 1.0, 3.0, 1.0, 1.0, 3.0, 3.0, 2.0], [3.0, 1.0, 2.0, 1.0, 3.0, 1.0, 1.0, 3.0], [3.0, 2.0]]\n",
      "tf.Tensor([3 1], shape=(2,), dtype=int32)\n",
      "tf.Tensor(\n",
      "[[0. 0. 0. 1.]\n",
      " [0. 1. 0. 0.]], shape=(2, 4), dtype=float32)\n",
      "tf.Tensor([2 1 3 1 1 3 3 2], shape=(8,), dtype=int32)\n",
      "tf.Tensor(\n",
      "[[0. 0. 1. 0.]\n",
      " [0. 1. 0. 0.]\n",
      " [0. 0. 0. 1.]\n",
      " [0. 1. 0. 0.]\n",
      " [0. 1. 0. 0.]\n",
      " [0. 0. 0. 1.]\n",
      " [0. 0. 0. 1.]\n",
      " [0. 0. 1. 0.]], shape=(8, 4), dtype=float32)\n",
      "tf.Tensor([3 1 2 1 3 1 1 3], shape=(8,), dtype=int32)\n",
      "tf.Tensor(\n",
      "[[0. 0. 0. 1.]\n",
      " [0. 1. 0. 0.]\n",
      " [0. 0. 1. 0.]\n",
      " [0. 1. 0. 0.]\n",
      " [0. 0. 0. 1.]\n",
      " [0. 1. 0. 0.]\n",
      " [0. 1. 0. 0.]\n",
      " [0. 0. 0. 1.]], shape=(8, 4), dtype=float32)\n",
      "tf.Tensor([3 2], shape=(2,), dtype=int32)\n",
      "tf.Tensor(\n",
      "[[0. 0. 0. 1.]\n",
      " [0. 0. 1. 0.]], shape=(2, 4), dtype=float32)\n"
     ]
    }
   ],
   "source": [
    "rnaReads = cutIntoReads(createRandomRNASequence(10), 10, 2)\n",
    "encrypedReads = encryptRnaReads(rnaReads)\n",
    "for read in encrypedReads:\n",
    "#     read = np.array(read)\n",
    "#     read[0] = -1\n",
    "#     read = np.array(read)\n",
    "    read = tf.cast(read, tf.int32)\n",
    "\n",
    "    print(read)\n",
    "    tensorRead = tf.one_hot(read,depth=4)\n",
    "    print(tensorRead)\n"
   ]
  },
  {
   "cell_type": "code",
   "execution_count": 7,
   "id": "e38a184d",
   "metadata": {
    "pycharm": {
     "name": "#%%\n"
    }
   },
   "outputs": [
    {
     "name": "stdout",
     "output_type": "stream",
     "text": [
      "TCCATATCGT\n",
      "TCCATATCGA\n"
     ]
    }
   ],
   "source": [
    "rna1 = createRandomRNASequence(10)\n",
    "\n",
    "rna2 = randomMutations(rna1,2)\n",
    "\n",
    "print(rna1)\n",
    "print(rna2)"
   ]
  },
  {
   "cell_type": "code",
   "execution_count": null,
   "id": "a0271aae",
   "metadata": {
    "pycharm": {
     "name": "#%%\n"
    }
   },
   "outputs": [],
   "source": []
  }
 ],
 "metadata": {
  "kernelspec": {
   "display_name": "Python 3 (ipykernel)",
   "language": "python",
   "name": "python3"
  },
  "language_info": {
   "codemirror_mode": {
    "name": "ipython",
    "version": 3
   },
   "file_extension": ".py",
   "mimetype": "text/x-python",
   "name": "python",
   "nbconvert_exporter": "python",
   "pygments_lexer": "ipython3",
   "version": "3.7.13"
  }
 },
 "nbformat": 4,
 "nbformat_minor": 5
}