{
 "cells": [
  {
   "cell_type": "code",
   "execution_count": 1,
   "id": "e4e15ee3",
   "metadata": {
    "pycharm": {
     "name": "#%%\n"
    }
   },
   "outputs": [],
   "source": [
    "# from collections import Counter\n",
    "\n",
    "import matplotlib.pyplot as plt\n",
    "import numpy as np\n",
    "import pandas as pd\n"
   ]
  },
  {
   "cell_type": "code",
   "execution_count": 3,
   "id": "5260f0c8",
   "metadata": {
    "pycharm": {
     "name": "#%%\n"
    }
   },
   "outputs": [
    {
     "ename": "FileNotFoundError",
     "evalue": "[Errno 2] No such file or directory: '../../../CAECseq/CAECseq_viral/alignedReads.sam'",
     "output_type": "error",
     "traceback": [
      "\u001B[0;31m---------------------------------------------------------------------------\u001B[0m",
      "\u001B[0;31mFileNotFoundError\u001B[0m                         Traceback (most recent call last)",
      "Input \u001B[0;32mIn [3]\u001B[0m, in \u001B[0;36m<cell line: 1>\u001B[0;34m()\u001B[0m\n\u001B[0;32m----> 1\u001B[0m file1 \u001B[38;5;241m=\u001B[39m \u001B[38;5;28;43mopen\u001B[39;49m\u001B[43m(\u001B[49m\u001B[38;5;124;43m'\u001B[39;49m\u001B[38;5;124;43m../../../CAECseq/CAECseq_viral/alignedReads.sam\u001B[39;49m\u001B[38;5;124;43m'\u001B[39;49m\u001B[43m,\u001B[49m\u001B[43m \u001B[49m\u001B[38;5;124;43m'\u001B[39;49m\u001B[38;5;124;43mr\u001B[39;49m\u001B[38;5;124;43m'\u001B[39;49m\u001B[43m)\u001B[49m\n\u001B[1;32m      2\u001B[0m Lines \u001B[38;5;241m=\u001B[39m file1\u001B[38;5;241m.\u001B[39mreadlines()\n",
      "\u001B[0;31mFileNotFoundError\u001B[0m: [Errno 2] No such file or directory: '../../../CAECseq/CAECseq_viral/alignedReads.sam'"
     ]
    }
   ],
   "source": [
    "file1 = open('../../../CAECseq/CAECseq_viral/alignedReads.sam', 'r')\n",
    "Lines = file1.readlines()\n"
   ]
  },
  {
   "cell_type": "code",
   "execution_count": 9,
   "id": "0427122b",
   "metadata": {
    "pycharm": {
     "name": "#%%\n"
    }
   },
   "outputs": [
    {
     "name": "stdout",
     "output_type": "stream",
     "text": [
      "10001\n",
      "0\n",
      "['@SQ', 'SN:gi|9629357:1-9117', 'LN:9117']\n"
     ]
    },
    {
     "ename": "ZeroDivisionError",
     "evalue": "division by zero",
     "output_type": "error",
     "traceback": [
      "\u001B[0;31m---------------------------------------------------------------------------\u001B[0m",
      "\u001B[0;31mZeroDivisionError\u001B[0m                         Traceback (most recent call last)",
      "\u001B[0;32m<ipython-input-9-a382d550bb6d>\u001B[0m in \u001B[0;36m<module>\u001B[0;34m\u001B[0m\n\u001B[1;32m     21\u001B[0m \u001B[0;31m#         break\u001B[0m\u001B[0;34m\u001B[0m\u001B[0;34m\u001B[0m\u001B[0;34m\u001B[0m\u001B[0m\n\u001B[1;32m     22\u001B[0m \u001B[0;34m\u001B[0m\u001B[0m\n\u001B[0;32m---> 23\u001B[0;31m \u001B[0mprint\u001B[0m\u001B[0;34m(\u001B[0m\u001B[0;34m\"average read length: \"\u001B[0m\u001B[0;34m,\u001B[0m \u001B[0msum\u001B[0m\u001B[0;34m(\u001B[0m\u001B[0mread_lengths\u001B[0m\u001B[0;34m)\u001B[0m\u001B[0;34m/\u001B[0m\u001B[0mlen\u001B[0m\u001B[0;34m(\u001B[0m\u001B[0mread_lengths\u001B[0m\u001B[0;34m)\u001B[0m\u001B[0;34m)\u001B[0m\u001B[0;34m\u001B[0m\u001B[0;34m\u001B[0m\u001B[0m\n\u001B[0m\u001B[1;32m     24\u001B[0m \u001B[0mprint\u001B[0m\u001B[0;34m(\u001B[0m\u001B[0;34m\"max read length: \"\u001B[0m\u001B[0;34m,\u001B[0m \u001B[0mmax\u001B[0m\u001B[0;34m(\u001B[0m\u001B[0mread_lengths\u001B[0m\u001B[0;34m)\u001B[0m\u001B[0;34m)\u001B[0m\u001B[0;34m\u001B[0m\u001B[0;34m\u001B[0m\u001B[0m\n\u001B[1;32m     25\u001B[0m \u001B[0mprint\u001B[0m\u001B[0;34m(\u001B[0m\u001B[0;34m\"min read length: \"\u001B[0m\u001B[0;34m,\u001B[0m \u001B[0mmin\u001B[0m\u001B[0;34m(\u001B[0m\u001B[0mread_lengths\u001B[0m\u001B[0;34m)\u001B[0m\u001B[0;34m)\u001B[0m\u001B[0;34m\u001B[0m\u001B[0;34m\u001B[0m\u001B[0m\n",
      "\u001B[0;31mZeroDivisionError\u001B[0m: division by zero"
     ]
    }
   ],
   "source": [
    "count = 0\n",
    "# Strips the newline character\n",
    "read_lengths = []\n",
    "counter = 0\n",
    "sumOfItAll = 0\n",
    "print(len(Lines))\n",
    "for line in Lines:\n",
    "    print(len(line[33:line.find('\t',33)]))\n",
    "#     print(line[33:(line.find('\t',33)+1)])\n",
    "    words = line.split()\n",
    "    print(words)\n",
    "    break\n",
    "    read_lengths.append(len(line[33:line.find('\t',33)]))\n",
    "    if(len(line[33:line.find('\t',33)]) == 2013):\n",
    "        print(line[33:line.find('\t',33)])\n",
    "    \n",
    "#     print(line.strip())\n",
    "    counter += 1\n",
    "    sumOfItAll += len(line[33:line.find(' ',33)])\n",
    "#     if(counter == 50):\n",
    "#         break\n",
    "\n",
    "print(\"average read length: \", sum(read_lengths)/len(read_lengths))\n",
    "print(\"max read length: \", max(read_lengths))\n",
    "print(\"min read length: \", min(read_lengths))\n",
    "\n",
    "# print(read_lengths)\n",
    "#     count += 1\n",
    "#     print(\"Line{}: {}\".format(count, line.strip()))"
   ]
  },
  {
   "cell_type": "code",
   "execution_count": null,
   "id": "72bb7ad3",
   "metadata": {
    "pycharm": {
     "name": "#%%\n"
    }
   },
   "outputs": [],
   "source": [
    "sorted_list = sorted(read_lengths)\n",
    "sorted_counted = Counter(sorted_list)\n",
    "\n",
    "range_length = list(range(max(some_list))) # Get the largest value to get the range.\n",
    "data_series = {}\n",
    "\n",
    "for i in range_length:\n",
    "    data_series[i] = 0 # Initialize series so that we have a template and we just have to fill in the values.\n",
    "\n",
    "for key, value in sorted_counted.items():\n",
    "    data_series[key] = value\n",
    "\n",
    "data_series = pd.Series(data_series)\n",
    "x_values = data_series.index\n",
    "\n",
    "# you can customize the limits of the x-axis\n",
    "# plt.xlim(0, max(some_list))\n",
    "plt.bar(x_values, data_series.values)\n",
    "\n",
    "plt.show() "
   ]
  }
 ],
 "metadata": {
  "kernelspec": {
   "display_name": "Python 3",
   "language": "python",
   "name": "python3"
  },
  "language_info": {
   "codemirror_mode": {
    "name": "ipython",
    "version": 3
   },
   "file_extension": ".py",
   "mimetype": "text/x-python",
   "name": "python",
   "nbconvert_exporter": "python",
   "pygments_lexer": "ipython3",
   "version": "3.6.13"
  }
 },
 "nbformat": 4,
 "nbformat_minor": 5
}