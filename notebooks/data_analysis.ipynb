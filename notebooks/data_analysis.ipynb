{
 "cells": [
  {
   "cell_type": "code",
   "execution_count": 12,
   "id": "e4e15ee3",
   "metadata": {},
   "outputs": [],
   "source": [
    "from itertools import groupby\n",
    "from os.path import exists\n",
    "\n",
    "import matplotlib.pyplot as plt\n",
    "import numpy as np\n",
    "import yaml\n",
    "\n",
    "\n"
   ]
  },
  {
   "cell_type": "code",
   "execution_count": 13,
   "outputs": [],
   "source": [
    "with open('../config.yml', 'r') as ymlfile:\n",
    "    config = yaml.safe_load(ymlfile)\n",
    "    data = config['data']\n",
    "\n"
   ],
   "metadata": {
    "collapsed": false
   }
  },
  {
   "cell_type": "code",
   "execution_count": 14,
   "outputs": [
    {
     "name": "stdout",
     "output_type": "stream",
     "text": [
      "from file: 454.fastq\n",
      "number of reads: 188176\n",
      "mean read length:  500.09891803418077\n",
      "std read length:  82.15693521143405\n",
      "max read length:  1007\n",
      "min read length:  38\n",
      "from file: Illumina.fastq\n",
      "number of reads: 1429988\n",
      "mean read length:  216.40433695947098\n",
      "std read length:  56.58643809996435\n",
      "max read length:  252\n",
      "min read length:  33\n"
     ]
    }
   ],
   "source": [
    "for data_name in ['454', 'Illumina']:\n",
    "    fastq_file = open('../data/' + data_name + '.fastq', 'r')\n",
    "\n",
    "    count = 0\n",
    "    # Strips the newline character\n",
    "    read_lengths = []\n",
    "    counter = 0\n",
    "    line = fastq_file.readline()\n",
    "    while line:\n",
    "        if counter % 4 == 1:\n",
    "            read_lengths.append(len(line))\n",
    "        counter += 1\n",
    "        line = fastq_file.readline()\n",
    "\n",
    "    print('from file:', data_name + '.fastq')\n",
    "    print('number of reads:', len(read_lengths))\n",
    "    print('mean read length: ', np.mean(read_lengths))\n",
    "    print('std read length: ', np.std(read_lengths))\n",
    "    print('max read length: ', max(read_lengths))\n",
    "    print('min read length: ', min(read_lengths))\n",
    "\n"
   ],
   "metadata": {
    "collapsed": false
   }
  },
  {
   "cell_type": "code",
   "execution_count": 15,
   "outputs": [],
   "source": [
    "region_matrix = [[790 - 1, 1186],  # 0 : p17\n",
    "                 [1186 - 1, 1879],  # 1 : p24\n",
    "                 [1879 - 1, 2292],  # 2 : p2p6\n",
    "                 [2253 - 1, 2550],  # 3 : PR\n",
    "                 [2550 - 1, 3870],  # 4 : RT\n",
    "                 [3870 - 1, 4230],  # 5 : RNase\n",
    "                 [4230 - 1, 5096],  # 6 : int\n",
    "                 [5041 - 1, 5620],  # 7 : vif\n",
    "                 [5559 - 1, 5850],  # 8 : vpr\n",
    "                 [6062 - 1, 6310],  # 9 : vpu\n",
    "                 [6225 - 1, 7758],  # 10 : gp120\n",
    "                 [7758 - 1, 8795],  # 11 : gp41\n",
    "                 [8797 - 1, 9417]]  # 12 : nef\n",
    "\n",
    "\n",
    "def check_in_which_genes(start, stop):\n",
    "    started = False if start > region_matrix[0][0] else True\n",
    "    region_indexes = []\n",
    "    for region_index, region in enumerate(region_matrix):\n",
    "        if started:\n",
    "            region_indexes.append(region_index)\n",
    "            if stop <= region[1]:\n",
    "                if region_index + 1 < 13 and region_matrix[region_index + 1][0] < stop < region_matrix[region_index + 1][1]:\n",
    "                    region_indexes.append(region_index + 1)\n",
    "                break\n",
    "        if not started and region[0] <= start <= region[1]:\n",
    "\n",
    "            region_indexes.append(region_index)\n",
    "            started = True\n",
    "            if stop <= region[1]:\n",
    "                if region_index + 1 < 13 and region_matrix[region_index + 1][0] < stop < region_matrix[region_index + 1][1]:\n",
    "                    region_indexes.append(region_index + 1)\n",
    "                break\n",
    "    return region_indexes"
   ],
   "metadata": {
    "collapsed": false
   }
  },
  {
   "cell_type": "code",
   "execution_count": 16,
   "outputs": [
    {
     "name": "stdout",
     "output_type": "stream",
     "text": [
      "from file: ./data/created/reads_mapped.sam\n",
      "number of reads: 173915\n",
      "mean read length:  515.9305982807693\n",
      "std read length:  22.91951424388577\n",
      "max read length:  706\n",
      "min read length:  301\n",
      "[12282, 19271, 14715, 12100, 25701, 11858, 28358, 26381, 19080, 13402, 36111, 31055, 30257]\n",
      "from file: ./data/created/reads_mapped.sam\n",
      "number of reads: 1157783\n",
      "mean read length:  236.89768462656647\n",
      "std read length:  26.626061037662897\n",
      "max read length:  251\n",
      "min read length:  151\n",
      "[84612, 124326, 100183, 108004, 322907, 126646, 168732, 77257, 61834, 70104, 146382, 131404, 51577]\n"
     ]
    },
    {
     "data": {
      "text/plain": "<Figure size 864x360 with 0 Axes>"
     },
     "metadata": {},
     "output_type": "display_data"
    },
    {
     "data": {
      "text/plain": "<Figure size 864x360 with 0 Axes>"
     },
     "metadata": {},
     "output_type": "display_data"
    },
    {
     "name": "stdout",
     "output_type": "stream",
     "text": [
      "[[12282, 19271, 14715, 12100, 25701, 11858, 28358, 26381, 19080, 13402, 36111, 31055, 30257], [84612, 124326, 100183, 108004, 322907, 126646, 168732, 77257, 61834, 70104, 146382, 131404, 51577]]\n"
     ]
    },
    {
     "data": {
      "text/plain": "<Figure size 864x360 with 0 Axes>"
     },
     "metadata": {},
     "output_type": "display_data"
    },
    {
     "data": {
      "text/plain": "<Figure size 864x360 with 1 Axes>",
      "image/png": "[encoded data removed]"
     },
     "metadata": {
      "needs_background": "light"
     },
     "output_type": "display_data"
    }
   ],
   "source": [
    "number_of_reads_experimental_per_NGS = []\n",
    "gene_names = ['p17', 'p24', 'p2p6', 'PR', 'RT', 'RNase', 'int', 'vif', 'vpr', 'vpu', 'gp120', 'gp41', 'nef']\n",
    "CAEC_cleaned_data = [40670, 63873, 48089, 60781, 156261, 72858,  83619, 39987, 33494, 33747, 69534, 62428, 23697]\n",
    "both_reads_experimental = []\n",
    "for data_name in ['454', 'Illumina']:\n",
    "    sam_file = open('../data/'+ data_name+ '_mapped.sam', 'r')\n",
    "    number_of_reads_per_gene = [0 for _ in range(13)]\n",
    "    read_lengths = []\n",
    "    counter = 0\n",
    "    line = sam_file.readline()\n",
    "    while line:\n",
    "        read_lengths.append(len(line.split('\\t')[9]))\n",
    "        position = int(line.split('\\t')[3])\n",
    "        indexes = check_in_which_genes(int(line.split('\\t')[3]), int(line.split('\\t')[3]) + read_lengths[-1])\n",
    "        for index in indexes:\n",
    "            number_of_reads_per_gene[index] += 1\n",
    "        line = sam_file.readline()\n",
    "\n",
    "    print('from file:', config[data]['reads_path'] + '_mapped.sam')\n",
    "    print('number of reads:', len(read_lengths))\n",
    "    print('mean read length: ', np.mean(read_lengths))\n",
    "    print('std read length: ', np.std(read_lengths))\n",
    "    print('max read length: ', max(read_lengths))\n",
    "    print('min read length: ', min(read_lengths))\n",
    "    print(number_of_reads_per_gene)\n",
    "\n",
    "    number_of_reads_per_gene_per_NGS.append(number_of_reads_per_gene)\n",
    "    plt.figure(figsize=(12,5))\n",
    "    # plt.scatter(gene_names, number_of_reads_per_gene_per_NGS[0])\n",
    "    # plt.plot(gene_names,number_of_reads_per_gene_per_NGS[0], '-o', color=\"#A5D7D2\")\n",
    "\n",
    "    # if data_name == 'Illumina':\n",
    "    #     plt.plot(gene_names,number_of_reads_per_gene, '-D', color=\"#D20537\", label='Illumina')\n",
    "    #     plt.plot(gene_names,CAEC_cleaned_data, '--s', color=\"#D20537\", label ='Illumina (CAECseq)')\n",
    "    #     plt.ylim([0,max(number_of_reads_per_gene)+20000])\n",
    "    both_reads_per_gene.append(number_of_reads_per_gene)\n",
    "    # else:\n",
    "    #     plt.ylim([0,max(number_of_reads_per_gene)+2000])\n",
    "    # ax.spines[\"top\"].set_visible(False)\n",
    "    # ax.spines[\"right\"].set_visible(False)\n",
    "    # ax.spines[\"left\"].set_visible(False)\n",
    "\n",
    "\n",
    "CAEC_cleaned_data = [40670, 63873, 48089, 60781, 156261, 72858,  83619, 39987, 33494, 33747, 69534, 62428, 23697]\n",
    "plt.show()\n",
    "print(number_of_reads_per_gene_per_NGS)\n",
    "plt.figure(figsize=(12,5))\n",
    "\n",
    "fig, ax = plt.subplots(figsize=(12,5))\n",
    "\n",
    "ax.plot(gene_names,both_reads_per_gene[1], '-D', color=\"#D20537\", label ='Illumina')\n",
    "ax.plot(gene_names,CAEC_cleaned_data, '--s', color=\"#D20537\", label ='Illumina (CAECseq)')\n",
    "ax.plot(gene_names,both_reads_per_gene[0], '-o', color=\"#A5D7D2\", label=\"454/Roche\")\n",
    "\n",
    "ax.spines[\"top\"].set_visible(False)\n",
    "ax.spines[\"right\"].set_visible(False)\n",
    "ax.legend(fontsize=14)\n",
    "# ax.spines[\"left\"].set_visible(False)\n",
    "#\n",
    "\n",
    "plt.ylim([0,max(both_reads_per_gene[1])+50000])\n",
    "plt.rcParams.update({'font.size': 12})\n",
    "plt.ylabel('Number of reads',fontsize=14)\n",
    "plt.xlabel('HIV-1 genes',fontsize=14)\n",
    "plt.show()\n"
   ],
   "metadata": {
    "collapsed": false
   }
  },
  {
   "cell_type": "code",
   "execution_count": 17,
   "outputs": [
    {
     "ename": "TypeError",
     "evalue": "'numpy.float64' object is not callable",
     "output_type": "error",
     "traceback": [
      "\u001B[0;31m---------------------------------------------------------------------------\u001B[0m",
      "\u001B[0;31mTypeError\u001B[0m                                 Traceback (most recent call last)",
      "Input \u001B[0;32mIn [17]\u001B[0m, in \u001B[0;36m<cell line: 3>\u001B[0;34m()\u001B[0m\n\u001B[1;32m      1\u001B[0m gene_names \u001B[38;5;241m=\u001B[39m [\u001B[38;5;124m'\u001B[39m\u001B[38;5;124mp17\u001B[39m\u001B[38;5;124m'\u001B[39m, \u001B[38;5;124m'\u001B[39m\u001B[38;5;124mp24\u001B[39m\u001B[38;5;124m'\u001B[39m, \u001B[38;5;124m'\u001B[39m\u001B[38;5;124mp2p6\u001B[39m\u001B[38;5;124m'\u001B[39m, \u001B[38;5;124m'\u001B[39m\u001B[38;5;124mPR\u001B[39m\u001B[38;5;124m'\u001B[39m, \u001B[38;5;124m'\u001B[39m\u001B[38;5;124mRT\u001B[39m\u001B[38;5;124m'\u001B[39m, \u001B[38;5;124m'\u001B[39m\u001B[38;5;124mRNase\u001B[39m\u001B[38;5;124m'\u001B[39m, \u001B[38;5;124m'\u001B[39m\u001B[38;5;124mint\u001B[39m\u001B[38;5;124m'\u001B[39m, \u001B[38;5;124m'\u001B[39m\u001B[38;5;124mvif\u001B[39m\u001B[38;5;124m'\u001B[39m, \u001B[38;5;124m'\u001B[39m\u001B[38;5;124mvpr\u001B[39m\u001B[38;5;124m'\u001B[39m, \u001B[38;5;124m'\u001B[39m\u001B[38;5;124mvpu\u001B[39m\u001B[38;5;124m'\u001B[39m, \u001B[38;5;124m'\u001B[39m\u001B[38;5;124mgp120\u001B[39m\u001B[38;5;124m'\u001B[39m, \u001B[38;5;124m'\u001B[39m\u001B[38;5;124mgp41\u001B[39m\u001B[38;5;124m'\u001B[39m, \u001B[38;5;124m'\u001B[39m\u001B[38;5;124mnef\u001B[39m\u001B[38;5;124m'\u001B[39m]\n\u001B[1;32m      2\u001B[0m \u001B[38;5;66;03m# plt.scatter(gene_names, number_of_reads_per_gene_per_NGS[0])\u001B[39;00m\n\u001B[0;32m----> 3\u001B[0m percentage_454 \u001B[38;5;241m=\u001B[39m \u001B[38;5;28;43mlist\u001B[39;49m\u001B[43m(\u001B[49m\u001B[38;5;28;43mmap\u001B[39;49m\u001B[43m(\u001B[49m\u001B[38;5;28;43;01mlambda\u001B[39;49;00m\u001B[43m \u001B[49m\u001B[43mx\u001B[49m\u001B[43m:\u001B[49m\u001B[43m \u001B[49m\u001B[43mx\u001B[49m\u001B[38;5;241;43m/\u001B[39;49m\u001B[38;5;28;43msum\u001B[39;49m\u001B[43m(\u001B[49m\u001B[43mnumber_of_reads_per_gene_per_NGS\u001B[49m\u001B[43m[\u001B[49m\u001B[38;5;241;43m0\u001B[39;49m\u001B[43m]\u001B[49m\u001B[43m)\u001B[49m\u001B[43m \u001B[49m\u001B[38;5;241;43m*\u001B[39;49m\u001B[43m \u001B[49m\u001B[38;5;241;43m100\u001B[39;49m\u001B[43m,\u001B[49m\u001B[43m \u001B[49m\u001B[43mnumber_of_reads_per_gene_per_NGS\u001B[49m\u001B[43m[\u001B[49m\u001B[38;5;241;43m0\u001B[39;49m\u001B[43m]\u001B[49m\u001B[43m)\u001B[49m\u001B[43m)\u001B[49m\n\u001B[1;32m      4\u001B[0m percentage_illumina \u001B[38;5;241m=\u001B[39m \u001B[38;5;28mlist\u001B[39m(\u001B[38;5;28mmap\u001B[39m(\u001B[38;5;28;01mlambda\u001B[39;00m x: x\u001B[38;5;241m/\u001B[39m\u001B[38;5;28msum\u001B[39m(number_of_reads_per_gene_per_NGS[\u001B[38;5;241m1\u001B[39m]) \u001B[38;5;241m*\u001B[39m \u001B[38;5;241m100\u001B[39m, number_of_reads_per_gene_per_NGS[\u001B[38;5;241m1\u001B[39m]))\n\u001B[1;32m      5\u001B[0m \u001B[38;5;28mprint\u001B[39m(\u001B[38;5;124m'\u001B[39m\u001B[38;5;124mpercentage_454:\u001B[39m\u001B[38;5;124m'\u001B[39m, percentage_454)\n",
      "Input \u001B[0;32mIn [17]\u001B[0m, in \u001B[0;36m<lambda>\u001B[0;34m(x)\u001B[0m\n\u001B[1;32m      1\u001B[0m gene_names \u001B[38;5;241m=\u001B[39m [\u001B[38;5;124m'\u001B[39m\u001B[38;5;124mp17\u001B[39m\u001B[38;5;124m'\u001B[39m, \u001B[38;5;124m'\u001B[39m\u001B[38;5;124mp24\u001B[39m\u001B[38;5;124m'\u001B[39m, \u001B[38;5;124m'\u001B[39m\u001B[38;5;124mp2p6\u001B[39m\u001B[38;5;124m'\u001B[39m, \u001B[38;5;124m'\u001B[39m\u001B[38;5;124mPR\u001B[39m\u001B[38;5;124m'\u001B[39m, \u001B[38;5;124m'\u001B[39m\u001B[38;5;124mRT\u001B[39m\u001B[38;5;124m'\u001B[39m, \u001B[38;5;124m'\u001B[39m\u001B[38;5;124mRNase\u001B[39m\u001B[38;5;124m'\u001B[39m, \u001B[38;5;124m'\u001B[39m\u001B[38;5;124mint\u001B[39m\u001B[38;5;124m'\u001B[39m, \u001B[38;5;124m'\u001B[39m\u001B[38;5;124mvif\u001B[39m\u001B[38;5;124m'\u001B[39m, \u001B[38;5;124m'\u001B[39m\u001B[38;5;124mvpr\u001B[39m\u001B[38;5;124m'\u001B[39m, \u001B[38;5;124m'\u001B[39m\u001B[38;5;124mvpu\u001B[39m\u001B[38;5;124m'\u001B[39m, \u001B[38;5;124m'\u001B[39m\u001B[38;5;124mgp120\u001B[39m\u001B[38;5;124m'\u001B[39m, \u001B[38;5;124m'\u001B[39m\u001B[38;5;124mgp41\u001B[39m\u001B[38;5;124m'\u001B[39m, \u001B[38;5;124m'\u001B[39m\u001B[38;5;124mnef\u001B[39m\u001B[38;5;124m'\u001B[39m]\n\u001B[1;32m      2\u001B[0m \u001B[38;5;66;03m# plt.scatter(gene_names, number_of_reads_per_gene_per_NGS[0])\u001B[39;00m\n\u001B[0;32m----> 3\u001B[0m percentage_454 \u001B[38;5;241m=\u001B[39m \u001B[38;5;28mlist\u001B[39m(\u001B[38;5;28mmap\u001B[39m(\u001B[38;5;28;01mlambda\u001B[39;00m x: x\u001B[38;5;241m/\u001B[39m\u001B[38;5;28;43msum\u001B[39;49m\u001B[43m(\u001B[49m\u001B[43mnumber_of_reads_per_gene_per_NGS\u001B[49m\u001B[43m[\u001B[49m\u001B[38;5;241;43m0\u001B[39;49m\u001B[43m]\u001B[49m\u001B[43m)\u001B[49m \u001B[38;5;241m*\u001B[39m \u001B[38;5;241m100\u001B[39m, number_of_reads_per_gene_per_NGS[\u001B[38;5;241m0\u001B[39m]))\n\u001B[1;32m      4\u001B[0m percentage_illumina \u001B[38;5;241m=\u001B[39m \u001B[38;5;28mlist\u001B[39m(\u001B[38;5;28mmap\u001B[39m(\u001B[38;5;28;01mlambda\u001B[39;00m x: x\u001B[38;5;241m/\u001B[39m\u001B[38;5;28msum\u001B[39m(number_of_reads_per_gene_per_NGS[\u001B[38;5;241m1\u001B[39m]) \u001B[38;5;241m*\u001B[39m \u001B[38;5;241m100\u001B[39m, number_of_reads_per_gene_per_NGS[\u001B[38;5;241m1\u001B[39m]))\n\u001B[1;32m      5\u001B[0m \u001B[38;5;28mprint\u001B[39m(\u001B[38;5;124m'\u001B[39m\u001B[38;5;124mpercentage_454:\u001B[39m\u001B[38;5;124m'\u001B[39m, percentage_454)\n",
      "\u001B[0;31mTypeError\u001B[0m: 'numpy.float64' object is not callable"
     ]
    }
   ],
   "source": [
    "gene_names = ['p17', 'p24', 'p2p6', 'PR', 'RT', 'RNase', 'int', 'vif', 'vpr', 'vpu', 'gp120', 'gp41', 'nef']\n",
    "# plt.scatter(gene_names, number_of_reads_per_gene_per_NGS[0])\n",
    "percentage_454 = list(map(lambda x: x/sum(number_of_reads_per_gene_per_NGS[0]) * 100, number_of_reads_per_gene_per_NGS[0]))\n",
    "percentage_illumina = list(map(lambda x: x/sum(number_of_reads_per_gene_per_NGS[1]) * 100, number_of_reads_per_gene_per_NGS[1]))\n",
    "print('percentage_454:', percentage_454)\n",
    "\n",
    "print('percentage_illumina:', percentage_illumina)\n",
    "\n",
    "CAEC_cleaned_data = [40670, 63873, 48089, 60781, 156261, 72858,  83619, 39987, 33494, 33747, 69534, 62428, 23697]\n",
    "percentage_illumina_caecseq = list(map(lambda x: x/sum(CAEC_cleaned_data) * 100, CAEC_cleaned_data))\n",
    "\n",
    "plt.figure(figsize=(12,5))\n",
    "\n",
    "fig, ax = plt.subplots(figsize=(12,5))\n",
    "\n",
    "ax.plot(gene_names,percentage_illumina, '-D', color=\"#D20537\", label ='Illumina')\n",
    "ax.plot(gene_names,percentage_illumina_caecseq, '--s', color=\"#D20537\", label ='Illumina (CAECseq)')\n",
    "ax.plot(gene_names,percentage_454, '-o', color=\"#A5D7D2\", label ='454/Roche')\n",
    "\n",
    "ax.spines[\"top\"].set_visible(False)\n",
    "ax.spines[\"right\"].set_visible(False)\n",
    "ax.legend(fontsize=14)\n",
    "# ax.spines[\"left\"].set_visible(False)\n",
    "#\n",
    "\n",
    "plt.ylim([0,max([*percentage_illumina, *percentage_454])+3])\n",
    "plt.rcParams.update({'font.size': 12})\n",
    "plt.ylabel('Percentage of reads',fontsize=14)\n",
    "plt.xlabel('HIV-1 genes',fontsize=14)\n",
    "plt.show()\n"
   ],
   "metadata": {
    "collapsed": false
   }
  },
  {
   "cell_type": "code",
   "execution_count": 28,
   "outputs": [
    {
     "name": "stdout",
     "output_type": "stream",
     "text": [
      "454\n",
      "loaded\n",
      "9721\n",
      "Illumina\n",
      "loaded\n",
      "9721\n",
      "[[78.18125707231766, 76.1444295854336, 74.46764736138257, 72.44110688200803, 70.26026128999075, 67.83252751774509, 65.45622878304701, 62.96677296574427, 60.6624832836128, 57.977574323629256, 55.1486472585125, 52.504886328567025, 49.51136714329801, 46.87789322086205, 44.06954017076433, 41.07602098549532, 38.43226005554984, 35.73706408805678, 33.391626375887256, 30.778726468470325, 28.505297808867404, 26.345026231869152, 24.22590268490896, 22.096492130439255, 19.96708157596955, 18.21829029935192, 16.572369097829444, 14.936734903816479, 13.311387717313034, 11.809484620923772, 10.297294517024998, 8.805678428145253, 7.643246579570002, 6.326509618352022, 5.1743647772862875, 4.186812056372801, 3.404999485649624, 2.7877790350786955, 2.0574015019030965, 1.5533381339368377, 1.1109968110276722, 0.8126735932517232, 0.5863594280423825, 0.4320543153996503, 0.32918424030449545, 0.21602715769982514, 0.15430511264273222, 0.12344409011418578, 0.07200905256660838], [89.52782635531324, 89.25007715255632, 88.96204094228989, 88.54027363439975, 88.25223742413331, 87.92305318382883, 87.61444295854336, 87.35726777080546, 87.01779652299146, 86.76062133525357, 86.56516819257278, 86.3182800123444, 85.87593868943524, 85.53646744162123, 85.20728320131674, 84.8472379384837, 84.54891472070774, 84.27116551795083, 83.9111202551178, 83.54078798477524, 83.11902067688509, 82.69725336899496, 82.33720810616192, 81.84343174570517, 81.30850735521037, 80.70157391214896, 80.10492747659706, 79.3334019133834, 78.77790350786957, 78.30470116243184, 77.61547165929431, 76.97767719370435, 76.2061516304907, 75.37290402221993, 74.28248122621129, 73.44923361794055, 72.46168089702707, 71.38154510852793, 70.00308610225285, 68.48060899084456, 66.41292048143195, 63.99547371669582, 60.569900216027165, 56.07447793436889, 50.19030963892603, 45.30398107190618, 40.62339265507664, 34.72893735212427, 23.084044851352743]]\n",
      "[8703, 8676, 8648, 8607, 8579, 8547, 8517, 8492, 8459, 8434, 8415, 8391, 8348, 8315, 8283, 8248, 8219, 8192, 8157, 8121, 8080, 8039, 8004, 7956, 7904, 7845, 7787, 7712, 7658, 7612, 7545, 7483, 7408, 7327, 7221, 7140, 7044, 6939, 6805, 6657, 6456, 6221, 5888, 5451, 4879, 4404, 3949, 3376, 2244]\n"
     ]
    },
    {
     "data": {
      "text/plain": "<Figure size 864x360 with 0 Axes>"
     },
     "metadata": {},
     "output_type": "display_data"
    },
    {
     "data": {
      "text/plain": "<Figure size 864x360 with 1 Axes>",
      "image/png": "[encoded data removed]"
     },
     "metadata": {
      "needs_background": "light"
     },
     "output_type": "display_data"
    }
   ],
   "source": [
    "\n",
    "\n",
    "def switcher(base):\n",
    "    return {\n",
    "        'A': 0,\n",
    "        'C': 1,\n",
    "        'G': 2,\n",
    "        'T': 3\n",
    "    }.get(base, -1)\n",
    "\n",
    "def adjust_according_to_cigar(cigar, read):\n",
    "    adjusted_read = ''\n",
    "    if 'I' in cigar or 'D' in cigar or 'S' in cigar:\n",
    "        cigar_position = 0\n",
    "        cigar_list = [''.join(g) for _, g in groupby(cigar, str.isalpha)]\n",
    "\n",
    "        # delete insertions and add - for deletion\n",
    "        for index in range(0, len(cigar_list), 2):\n",
    "            if cigar_list[index + 1] == 'S':\n",
    "                if int(cigar_list[index]) > 10:\n",
    "                    return ''\n",
    "            if cigar_list[index + 1] == 'D':\n",
    "                adjusted_read += '-' * int(cigar_list[index])\n",
    "            elif cigar_list[index + 1] != 'I':\n",
    "                adjusted_read += read[cigar_position:(cigar_position + int(cigar_list[index]))]\n",
    "                cigar_position += int(cigar_list[index])\n",
    "    else:\n",
    "        adjusted_read = read\n",
    "    return adjusted_read\n",
    "\n",
    "ratio_per_NGS = []\n",
    "for data_name in ['454', 'Illumina']:\n",
    "    print(data_name)\n",
    "    if not exists('../data/'+ data_name + '_SNP_pos.npy'):\n",
    "        sam_file = open('../data/'+ data_name + '_mapped.sam', 'r')\n",
    "        number_of_reads = len(sam_file.readlines())\n",
    "        base_count = np.zeros((9721, 4))\n",
    "        sam_file = open('../data/'+ data_name + '_mapped.sam', 'r')\n",
    "        line = sam_file.readline()\n",
    "        counter = 1\n",
    "        while line:\n",
    "            read = line.split('\\t')[9]\n",
    "            cigar = line.split('\\t')[5]\n",
    "            adjusted_read = adjust_according_to_cigar(cigar, read)\n",
    "            if len(adjusted_read) == 0:\n",
    "                line = sam_file.readline()\n",
    "                continue\n",
    "            pos = int(line.split('\\t')[3])\n",
    "            for index, base in enumerate(adjusted_read):\n",
    "                base_count[pos + index][switcher(base)] += 1 # base_count[pos + index][switcher(base)] + 1\n",
    "\n",
    "            line = sam_file.readline()\n",
    "            counter +=1\n",
    "            if counter%25000 == 0:\n",
    "                print(counter)\n",
    "\n",
    "        # TODO save numpy file\n",
    "        np.save('../data/'+ data_name + '_SNP_pos', base_count)\n",
    "    else:\n",
    "        base_count = np.load('../data/'+ data_name + '_SNP_pos.npy')\n",
    "        print('loaded')\n",
    "\n",
    "    SNPs = []\n",
    "    ratio=[]\n",
    "    number_of_SNPs = []\n",
    "    number_of_no_SNPs = []\n",
    "    print(len(base_count))\n",
    "    thresholds = range(50,99)\n",
    "    for threshold in thresholds:\n",
    "        for index in range(base_count.shape[0]):\n",
    "            if np.sum(base_count[index]) > 1000:\n",
    "                if np.max(base_count[index])/np.sum(base_count[index]) > threshold/100:\n",
    "                    # print(np.max(base_count[index])/np.sum(base_count[index]))\n",
    "                    SNPs.append(index)\n",
    "\n",
    "        # print('threshold: ' +  str(threshold)+'%' )\n",
    "        # print('SNPs:', len(SNPs))\n",
    "        # print('SNPs/len(haplotype) * 100:', len(SNPs)/9721* 100)\n",
    "        number_of_SNPs.append(len(SNPs))\n",
    "        ratio.append(len(SNPs)/9721 * 100)\n",
    "        SNPs = []\n",
    "    ratio_per_NGS.append(ratio)\n",
    "print(ratio_per_NGS)\n",
    "plt.figure(figsize=(12,5))\n",
    "\n",
    "fig, ax = plt.subplots(figsize=(12,5))\n",
    "ratio_454 = ratio_per_NGS[0]\n",
    "ratio_illumina = ratio_per_NGS[1]\n",
    "\n",
    "ax.plot(thresholds,ratio_illumina, '-', color=\"#D20537\", label ='Illumina')\n",
    "ax.plot(thresholds,ratio_454, '-', color=\"#A5D7D2\", label ='454/Roche')\n",
    "\n",
    "ax.spines[\"top\"].set_visible(False)\n",
    "ax.spines[\"right\"].set_visible(False)\n",
    "ax.legend(fontsize=14)\n",
    "#\n",
    "print(number_of_SNPs)\n",
    "plt.ylim([0,100])\n",
    "plt.rcParams.update({'font.size': 12})\n",
    "plt.xlabel('SNP Threshold',fontsize=14)\n",
    "plt.ylabel('SNP Percentage',fontsize=14)\n",
    "plt.show()"
   ],
   "metadata": {
    "collapsed": false
   }
  },
  {
   "cell_type": "code",
   "execution_count": null,
   "outputs": [],
   "source": [
    "\n",
    "\n",
    "def switcher(base):\n",
    "    return {\n",
    "        'A': 0,\n",
    "        'C': 1,\n",
    "        'G': 2,\n",
    "        'T': 3\n",
    "    }.get(base, -1)\n",
    "\n",
    "\n",
    "ratio_per_NGS = []\n",
    "for data_name in ['454', 'Illumina']:\n",
    "    print(data_name)\n",
    "    if not exists('../data/'+ data_name + '_SNP_pos.npy'):\n",
    "        sam_file = open('../data/'+ data_name + '_mapped.sam', 'r')\n",
    "        number_of_reads = len(sam_file.readlines())\n",
    "        base_count = np.zeros((9721, 4))\n",
    "        sam_file = open('../data/'+ data_name + '_mapped.sam', 'r')\n",
    "        line = sam_file.readline()\n",
    "\n",
    "        counter = 1\n",
    "        while line:\n",
    "             # NEW\n",
    "            read = line.split('\\t')[9]\n",
    "            cigar = line.split('\\t')[5]\n",
    "            adjusted_read = ''\n",
    "            if 'I' in cigar or 'D' in cigar or 'S' in cigar:\n",
    "                cigar_position = 0\n",
    "                cigar_list = [''.join(g) for _, g in groupby(cigar, str.isalpha)]\n",
    "                # delete insertions and add '-' for deletion\n",
    "                for index in range(0, len(cigar_list), 2):\n",
    "                    if cigar_list[index + 1] == 'S':\n",
    "                        if int(cigar_list[index]) > 3:\n",
    "                            continue\n",
    "                    elif cigar_list[index + 1] == 'D':\n",
    "                        adjusted_read += '-' * int(cigar_list[index])\n",
    "                    elif cigar_list[index + 1] == 'I':\n",
    "                        cigar_position += int(cigar_list[index])\n",
    "                    elif cigar_list[index + 1] == 'M':\n",
    "                        adjusted_read += read[cigar_position:(cigar_position + int(cigar_list[index]))]\n",
    "                        cigar_position += int(cigar_list[index])\n",
    "            else:\n",
    "                adjusted_read = read\n",
    "            pos = int(line.split('\\t')[3])\n",
    "            for index, base in enumerate(adjusted_read):\n",
    "                base_count[pos + index][switcher(base)] += 1 # base_count[pos + index][switcher(base)] + 1\n",
    "\n",
    "            line = sam_file.readline()\n",
    "            counter +=1\n",
    "            if counter%25000 == 0:\n",
    "                print(counter)\n",
    "\n",
    "        # TODO save numpy file\n",
    "        np.save('../data/'+ data_name + '_SNP_pos', base_count)\n",
    "    else:\n",
    "        base_count = np.load('../data/'+ data_name + '_SNP_pos.npy')\n",
    "        print('loaded')\n",
    "\n",
    "    # print(base_count)\n",
    "    result = []\n",
    "    SNPs = []\n",
    "    ratio=[]\n",
    "    number_of_SNPs = []\n",
    "    number_of_no_SNPs = []\n",
    "    print(len(base_count))\n",
    "    thresholds = [x/100 for x in range(100, 200)]\n",
    "    for threshold in thresholds:\n",
    "        for index in range(base_count.shape[0]):\n",
    "            if np.sum(base_count[index]) > 1000:\n",
    "                sum = 0\n",
    "                for i in range(4):\n",
    "                    p = (base_count[index][i])/np.sum(base_count[index])\n",
    "                    sum -= p * np.log2(p)\n",
    "                if sum > threshold:\n",
    "                    # print(sum, base_count[index])\n",
    "                    SNPs.append(index)\n",
    "                # if(sum > -0.1):\n",
    "                #     print('-0.1',base_count[index])\n",
    "                # if(p * np.log2(p) < -0.5):\n",
    "                #     print(p * np.log2(p))\n",
    "                #     print('-0.5',base_count[index])\n",
    "                # if np.max(base_count[index])/np.sum(base_count[index]) > threshold/100:\n",
    "                #     # print(np.max(base_count[index])/np.sum(base_count[index]))\n",
    "                #     SNPs.append(index)\n",
    "\n",
    "        # print('threshold: ' +  str(threshold)+'%' )\n",
    "        # print('SNPs:', len(SNPs))\n",
    "        # print('SNPs/len(haplotype) * 100:', len(SNPs)/9721* 100)\n",
    "#         number_of_SNPs.append(len(SNPs))\n",
    "#         print(threshold,len(SNPs))\n",
    "        ratio.append(len(SNPs)/9721 * 100)\n",
    "        SNPs = []\n",
    "#         no_SNPs = []\n",
    "    ratio_per_NGS.append(ratio)\n",
    "# print(ratio_per_NGS)\n",
    "plt.figure(figsize=(12,5))\n",
    "\n",
    "fig, ax = plt.subplots(figsize=(12,5))\n",
    "ratio_454 = ratio_per_NGS[0]\n",
    "ratio_illumina = ratio_per_NGS[1]\n",
    "\n",
    "ax.plot(thresholds,ratio_illumina, '-', color=\"#D20537\", label ='Illumina')\n",
    "ax.plot(thresholds,ratio_454, '-', color=\"#A5D7D2\", label ='454/Roche')\n",
    "\n",
    "ax.spines[\"top\"].set_visible(False)\n",
    "ax.spines[\"right\"].set_visible(False)\n",
    "ax.legend(fontsize=14)\n",
    "#\n",
    "print(number_of_SNPs)\n",
    "plt.ylim([0,100])\n",
    "plt.rcParams.update({'font.size': 12})\n",
    "plt.xlabel('SNP Threshold',fontsize=14)\n",
    "plt.ylabel('SNP Percentage',fontsize=14)\n",
    "plt.show()"
   ],
   "metadata": {
    "collapsed": false
   }
  },
  {
   "cell_type": "code",
   "execution_count": null,
   "outputs": [],
   "source": [
    "thresholds = [x/100 for x in range(190,200)]\n",
    "print(thresholds)"
   ],
   "metadata": {
    "collapsed": false
   }
  },
  {
   "cell_type": "code",
   "execution_count": null,
   "outputs": [],
   "source": [],
   "metadata": {
    "collapsed": false
   }
  },
  {
   "cell_type": "code",
   "execution_count": null,
   "outputs": [],
   "source": [
    "# read length of illumina and 454 mapped\n",
    "final = []\n",
    "for data_name in ['454', 'Illumina']:\n",
    "    print(data_name)\n",
    "    sam_file = open('../data/'+ data_name + '_mapped.sam', 'r')\n",
    "    number_of_reads = len(sam_file.readlines())\n",
    "    sam_file = open('../data/'+ data_name + '_mapped.sam', 'r')\n",
    "    line = sam_file.readline()\n",
    "    counter = np.zeros(1000)\n",
    "    while line:\n",
    "        length = len(line.split('\\t')[9])\n",
    "        counter[length] += 1\n",
    "        line = sam_file.readline()\n",
    "    print(counter)\n",
    "    final.append(counter/number_of_reads)\n",
    "\n",
    "plt.figure(figsize=(12,5))\n",
    "\n",
    "fig, ax = plt.subplots(figsize=(12,5))\n",
    "read_length_454 = final[0]\n",
    "\n",
    "ax.plot(range(1000),read_length_454, '-', color=\"#A5D7D2\", label ='454/Roche')\n",
    "\n",
    "ax.spines[\"top\"].set_visible(False)\n",
    "ax.spines[\"right\"].set_visible(False)\n",
    "ax.legend(fontsize=14)\n",
    "#\n",
    "plt.xlim([0,600])\n",
    "plt.ylim([0,0.028])\n",
    "plt.rcParams.update({'font.size': 12})\n",
    "plt.ylabel('Percentage of Reads',fontsize=14)\n",
    "plt.xlabel('Read Length',fontsize=14)\n",
    "plt.show()\n",
    "plt.figure(figsize=(12,5))\n",
    "\n",
    "fig, ax = plt.subplots(figsize=(12,5))\n",
    "read_length_illumina = final[1]\n",
    "\n",
    "ax.plot(range(1000),read_length_illumina, '-', color=\"#D20537\", label ='Illumina')\n",
    "\n",
    "ax.spines[\"top\"].set_visible(False)\n",
    "ax.spines[\"right\"].set_visible(False)\n",
    "ax.legend(fontsize=14)\n",
    "#\n",
    "plt.xlim([0,600])\n",
    "plt.ylim([0,0.55])\n",
    "plt.rcParams.update({'font.size': 12})\n",
    "plt.ylabel('Percentage of Reads',fontsize=14)\n",
    "plt.xlabel('Read Length',fontsize=14)\n",
    "plt.show()\n"
   ],
   "metadata": {
    "collapsed": false
   }
  },
  {
   "cell_type": "code",
   "execution_count": 20,
   "outputs": [
    {
     "ename": "TypeError",
     "evalue": "'numpy.float64' object is not callable",
     "output_type": "error",
     "traceback": [
      "\u001B[0;31m---------------------------------------------------------------------------\u001B[0m",
      "\u001B[0;31mTypeError\u001B[0m                                 Traceback (most recent call last)",
      "Input \u001B[0;32mIn [20]\u001B[0m, in \u001B[0;36m<cell line: 13>\u001B[0;34m()\u001B[0m\n\u001B[1;32m     10\u001B[0m     \u001B[38;5;28;01mif\u001B[39;00m line[\u001B[38;5;241m0\u001B[39m] \u001B[38;5;241m!=\u001B[39m \u001B[38;5;124m'\u001B[39m\u001B[38;5;124m>\u001B[39m\u001B[38;5;124m'\u001B[39m:\n\u001B[1;32m     11\u001B[0m         haplotypes[\u001B[38;5;28mint\u001B[39m(index\u001B[38;5;241m/\u001B[39m\u001B[38;5;241m2\u001B[39m)] \u001B[38;5;241m=\u001B[39m ([line[i] \u001B[38;5;28;01mfor\u001B[39;00m i \u001B[38;5;129;01min\u001B[39;00m snp_positions])\n\u001B[0;32m---> 13\u001B[0m count_insertions \u001B[38;5;241m=\u001B[39m \u001B[38;5;28;43msum\u001B[39;49m\u001B[43m(\u001B[49m\u001B[43mnp\u001B[49m\u001B[38;5;241;43m.\u001B[39;49m\u001B[43mwhere\u001B[49m\u001B[43m(\u001B[49m\u001B[43mnp\u001B[49m\u001B[38;5;241;43m.\u001B[39;49m\u001B[43marray\u001B[49m\u001B[43m(\u001B[49m\u001B[43mhaplotypes\u001B[49m\u001B[43m)\u001B[49m\u001B[43m \u001B[49m\u001B[38;5;241;43m==\u001B[39;49m\u001B[43m \u001B[49m\u001B[38;5;124;43m'\u001B[39;49m\u001B[38;5;124;43m-\u001B[39;49m\u001B[38;5;124;43m'\u001B[39;49m\u001B[43m)\u001B[49m\u001B[43m[\u001B[49m\u001B[38;5;241;43m0\u001B[39;49m\u001B[43m]\u001B[49m\u001B[43m)\u001B[49m\n\u001B[1;32m     15\u001B[0m \u001B[38;5;28mprint\u001B[39m(\u001B[38;5;124m'\u001B[39m\u001B[38;5;124mprobability that SNP is an insertion\u001B[39m\u001B[38;5;124m'\u001B[39m,  count_insertions\u001B[38;5;241m/\u001B[39m(\u001B[38;5;28mlen\u001B[39m(haplotypes) \u001B[38;5;241m*\u001B[39m \u001B[38;5;28mlen\u001B[39m(haplotypes[\u001B[38;5;241m0\u001B[39m])))\n",
      "\u001B[0;31mTypeError\u001B[0m: 'numpy.float64' object is not callable"
     ]
    }
   ],
   "source": [
    "# probability of an insertions:\n",
    "ref_aligned_file = open('../data/reference/aligned_REF.fasta', 'r')\n",
    "ref_lines = ref_aligned_file.readlines()\n",
    "\n",
    "snp_positions_file =  open('../data/reference/snp_positions.txt', 'r')\n",
    "snp_positions = snp_positions_file.readlines()\n",
    "snp_positions = [int(s.strip('\\n')) for s in snp_positions]\n",
    "haplotypes = [[] for i in range(5)]\n",
    "for index, line in enumerate(ref_lines):\n",
    "    if line[0] != '>':\n",
    "        haplotypes[int(index/2)] = ([line[i] for i in snp_positions])\n",
    "\n",
    "\n",
    "count_insertions = sum(np.where(np.array(haplotypes) == '-')[0])\n",
    "\n",
    "print('probability that SNP is an insertion',  count_insertions/(len(haplotypes) * len(haplotypes[0])))\n"
   ],
   "metadata": {
    "collapsed": false
   }
  },
  {
   "cell_type": "code",
   "execution_count": 26,
   "outputs": [
    {
     "name": "stderr",
     "output_type": "stream",
     "text": [
      "No artists with labels found to put in legend.  Note that artists whose label start with an underscore are ignored when legend() is called with no argument.\n"
     ]
    },
    {
     "name": "stdout",
     "output_type": "stream",
     "text": [
      "[  0.97444613   1.8741466    4.83428277   9.22360007  18.75774037\n",
      "  91.7560152  190.90471359]\n"
     ]
    },
    {
     "data": {
      "text/plain": "<Figure size 864x360 with 0 Axes>"
     },
     "metadata": {},
     "output_type": "display_data"
    },
    {
     "data": {
      "text/plain": "<Figure size 864x360 with 1 Axes>",
      "image/png": "[encoded data removed]"
     },
     "metadata": {
      "needs_background": "light"
     },
     "output_type": "display_data"
    }
   ],
   "source": [
    "clusters = [2,3,4,5,6,7,8]\n",
    "read_length_2 = 40\n",
    "read_length_3 = 60\n",
    "read_length_4 = 74\n",
    "read_length_5 = 100\n",
    "read_length_6 = 116\n",
    "read_length_7 = 144\n",
    "read_length_8 = 184\n",
    "number_of_reads_2 = [40, 73, 202, 369, 757, 3755, 7744]\n",
    "number_of_reads_3 = [56, 115, 288, 557, 1124, 5639, 11730]\n",
    "number_of_reads_4 = [79, 151, 382, 692, 1403, 6782, 13930]\n",
    "number_of_reads_5 = [96, 187, 475, 923, 1854, 9156, 18937]\n",
    "number_of_reads_6 = [110, 221, 543, 1070, 2179, 10521, 22305]\n",
    "number_of_reads_7 = [135, 243, 657, 1300, 2679, 12783, 26846]\n",
    "number_of_reads_8 = [156, 300, 725, 1476, 2960, 14269, 30492]\n",
    "\n",
    "n2 = np.array([i/read_length_2 for i in number_of_reads_2])\n",
    "n3 = np.array([i/read_length_3 for i in number_of_reads_3])\n",
    "n4 = np.array([i/read_length_4 for i in number_of_reads_4])\n",
    "n5 = np.array([i/read_length_5 for i in number_of_reads_5])\n",
    "n6 = np.array([i/read_length_6 for i in number_of_reads_6])\n",
    "n7 = np.array([i/read_length_7 for i in number_of_reads_7])\n",
    "n8 = np.array([i/read_length_8 for i in number_of_reads_8])\n",
    "average_read_length = np.mean([n2, n3, n4, n5, n6, n7], axis=0)\n",
    "print(average_read_length)\n",
    "plt.figure(figsize=(12,5))\n",
    "\n",
    "fig, ax = plt.subplots(figsize=(12,5))\n",
    "ratio_454 = ratio_per_NGS[0]\n",
    "ratio_illumina = ratio_per_NGS[1]\n",
    "\n",
    "ax.plot(clusters,average_read_length, '-o', color=\"#D20537\")\n",
    "\n",
    "ax.spines[\"top\"].set_visible(False)\n",
    "ax.spines[\"right\"].set_visible(False)\n",
    "ax.legend(fontsize=14)\n",
    "#\n",
    "# plt.ylim([0,100])\n",
    "plt.rcParams.update({'font.size': 12})\n",
    "plt.xlabel('Number of Clusters',fontsize=14)\n",
    "plt.ylabel('Normalized Average Read Length',fontsize=14)\n",
    "plt.show()"
   ],
   "metadata": {
    "collapsed": false
   }
  },
  {
   "cell_type": "code",
   "execution_count": 19,
   "outputs": [],
   "source": [],
   "metadata": {
    "collapsed": false
   }
  },
  {
   "cell_type": "code",
   "execution_count": null,
   "outputs": [],
   "source": [],
   "metadata": {
    "collapsed": false
   }
  }
 ],
 "metadata": {
  "kernelspec": {
   "display_name": "Python 3",
   "language": "python",
   "name": "python3"
  },
  "language_info": {
   "codemirror_mode": {
    "name": "ipython",
    "version": 3
   },
   "file_extension": ".py",
   "mimetype": "text/x-python",
   "name": "python",
   "nbconvert_exporter": "python",
   "pygments_lexer": "ipython3",
   "version": "3.6.13"
  }
 },
 "nbformat": 4,
 "nbformat_minor": 5
}
