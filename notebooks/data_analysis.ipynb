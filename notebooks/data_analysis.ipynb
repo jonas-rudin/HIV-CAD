{
 "cells": [
  {
   "cell_type": "code",
   "execution_count": 26,
   "id": "e4e15ee3",
   "metadata": {
    "pycharm": {
     "name": "#%%\n"
    }
   },
   "outputs": [],
   "source": [
    "from collections import Counter\n",
    "import matplotlib.pyplot as plt\n",
    "import numpy as np\n",
    "import pandas as pd\n",
    "import yaml\n",
    "\n"
   ]
  },
  {
   "cell_type": "code",
   "execution_count": 32,
   "outputs": [],
   "source": [
    "with open(\"../config.yml\", \"r\") as ymlfile:\n",
    "    config = yaml.safe_load(ymlfile)\n",
    "\n"
   ],
   "metadata": {
    "collapsed": false,
    "pycharm": {
     "name": "#%%\n"
    }
   }
  },
  {
   "cell_type": "code",
   "execution_count": 33,
   "id": "5260f0c8",
   "metadata": {
    "pycharm": {
     "name": "#%%\n"
    }
   },
   "outputs": [],
   "source": [
    "file1 = open(config['readsFilePath'], 'r')\n",
    "Lines = file1.readlines()\n"
   ]
  },
  {
   "cell_type": "code",
   "execution_count": 34,
   "id": "0427122b",
   "metadata": {
    "pycharm": {
     "name": "#%%\n"
    }
   },
   "outputs": [
    {
     "name": "stdout",
     "output_type": "stream",
     "text": [
      "188176.0\n",
      "average read length:  499.09891803418077\n",
      "max read length:  1006\n",
      "min read length:  37\n"
     ]
    }
   ],
   "source": [
    "count = 0\n",
    "# Strips the newline character\n",
    "read_lengths = []\n",
    "counter = 0\n",
    "sumOfItAll = 0\n",
    "print(len(Lines)/2)\n",
    "read_line = False\n",
    "for line in Lines:\n",
    "    if(read_line):\n",
    "        read_line = False\n",
    "        continue\n",
    "    else:\n",
    "        split_line = line.split()\n",
    "        read_lengths.append(int((split_line[2])[7:]))\n",
    "        read_line = True\n",
    "#     if(counter == 50):\n",
    "#         break\n",
    "print(\"average read length: \", sum(read_lengths)/len(read_lengths))\n",
    "print(\"max read length: \", max(read_lengths))\n",
    "print(\"min read length: \", min(read_lengths))\n",
    "\n",
    "# print(read_lengths)\n",
    "#     count += 1\n",
    "#     print(\"Line{}: {}\".format(count, line.strip()))"
   ]
  },
  {
   "cell_type": "code",
   "execution_count": 35,
   "outputs": [
    {
     "data": {
      "text/plain": "<Figure size 432x288 with 1 Axes>",
      "image/png": "[encoded data removed]"
     },
     "metadata": {
      "needs_background": "light"
     },
     "output_type": "display_data"
    }
   ],
   "source": [
    "sorted_list = sorted(read_lengths)\n",
    "sorted_counted = Counter(sorted_list)\n",
    "\n",
    "range_length = list(range(max(read_lengths))) # Get the largest value to get the range.\n",
    "data_series = {}\n",
    "\n",
    "for i in range_length:\n",
    "    data_series[i] = 0 # Initialize series so that we have a template and we just have to fill in the values.\n",
    "\n",
    "for key, value in sorted_counted.items():\n",
    "    data_series[key] = value\n",
    "\n",
    "data_series = pd.Series(data_series)\n",
    "x_values = data_series.index\n",
    "\n",
    "# you can customize the limits of the x-axis\n",
    "# plt.xlim(0, max(some_list))\n",
    "plt.bar(x_values, data_series.values)\n",
    "\n",
    "plt.show()"
   ],
   "metadata": {
    "collapsed": false,
    "pycharm": {
     "name": "#%%\n"
    }
   }
  },
  {
   "cell_type": "code",
   "execution_count": null,
   "outputs": [],
   "source": [],
   "metadata": {
    "collapsed": false,
    "pycharm": {
     "name": "#%%\n"
    }
   }
  }
 ],
 "metadata": {
  "kernelspec": {
   "display_name": "Python 3",
   "language": "python",
   "name": "python3"
  },
  "language_info": {
   "codemirror_mode": {
    "name": "ipython",
    "version": 3
   },
   "file_extension": ".py",
   "mimetype": "text/x-python",
   "name": "python",
   "nbconvert_exporter": "python",
   "pygments_lexer": "ipython3",
   "version": "3.6.13"
  }
 },
 "nbformat": 4,
 "nbformat_minor": 5
}